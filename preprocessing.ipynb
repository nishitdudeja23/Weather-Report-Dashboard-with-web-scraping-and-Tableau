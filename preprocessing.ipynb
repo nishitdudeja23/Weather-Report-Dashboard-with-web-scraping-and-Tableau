{
  "nbformat": 4,
  "nbformat_minor": 0,
  "metadata": {
    "colab": {
      "provenance": []
    },
    "kernelspec": {
      "name": "python3",
      "display_name": "Python 3"
    },
    "language_info": {
      "name": "python"
    }
  },
  "cells": [
    {
      "cell_type": "code",
      "execution_count": null,
      "metadata": {
        "id": "3-YvU2qulNfO"
      },
      "outputs": [],
      "source": [
        "import pandas as pd import re\n",
        "from scipy.stats import zscore\n",
        "\n",
        "\n",
        "df = pd.read_csv('raw_weather_data.csv') df['Date'] = pd.to_datetime(df['Date'], format='%d %B %Y')\n",
        "\n",
        "numeric_columns = [\n",
        "'Average temperature', 'Average dewpoint', 'Average barometer', 'Average windspeed', 'Average gustspeed', 'Rainfall for month', 'Rainfall for year', 'Maximum temperature',\n",
        "'Minimum temperature', 'Maximum humidity', 'Minimum humidity', 'Maximum pressure', 'Minimum pressure', 'Maximum windspeed', 'Maximum gust speed', 'Maximum heat index'\n",
        "]\n",
        "\n",
        "for col in numeric_columns:\n",
        "df[col] = pd.to_numeric(df[col].str.replace('[^\\d.-]', ''), errors='coerce')\n",
        "\n",
        "\n",
        "df.fillna(df.mean(), inplace=True)\n",
        "\n",
        "\n",
        "z_scores = zscore(df[numeric_columns]) abs_z_scores = abs(z_scores)\n",
        "filtered_entries = (abs_z_scores < 3).all(axis=1) df = df[filtered_entries]\n",
        "\n",
        "df['Max Rain Minute'] = df['Maximum rain per minute'].str.extract(r'(\\d+\\.\\d+)').astype(float) df['Max Rain Time'] = df['Maximum rain per minute'].str.extract(r'(\\d{2}:\\d{2})')\n",
        "df = df.drop(columns=['Maximum rain per minute'])\n",
        "\n",
        "df.to_csv(r'C:\\Users\\nishi\\Pictures\\convo\\preprocessed_dataset.csv', index=False)\n",
        "print(df)\n"
      ]
    }
  ]
}